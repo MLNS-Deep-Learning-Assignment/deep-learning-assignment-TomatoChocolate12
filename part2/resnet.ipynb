{
 "cells": [
  {
   "cell_type": "code",
   "execution_count": 1,
   "metadata": {},
   "outputs": [],
   "source": [
    "import numpy as np\n",
    "import torch\n",
    "import torch.nn as nn\n",
    "import torch.optim as optim\n",
    "from torch.utils.data import DataLoader, Dataset, random_split\n",
    "from torchvision import models, transforms\n",
    "import glob"
   ]
  },
  {
   "cell_type": "code",
   "execution_count": 2,
   "metadata": {},
   "outputs": [],
   "source": [
    "class DigitSumDataset(Dataset):\n",
    "    def __init__(self, images, labels, transform=None):\n",
    "        self.images = images  # Shape: (N, H, W)\n",
    "        self.labels = labels  # Shape: (N,)\n",
    "        self.transform = transform\n",
    "\n",
    "    def __len__(self):\n",
    "        return len(self.images)\n",
    "\n",
    "    def __getitem__(self, idx):\n",
    "        image = self.images[idx]\n",
    "        label = self.labels[idx]\n",
    "\n",
    "        if self.transform:\n",
    "            image = self.transform(image)\n",
    "\n",
    "        return image, label"
   ]
  },
  {
   "cell_type": "code",
   "execution_count": 3,
   "metadata": {},
   "outputs": [],
   "source": [
    "image_files = sorted(glob.glob(\"../data/data*.npy\"))\n",
    "label_files = sorted(glob.glob(\"../data/lab*.npy\"))\n",
    "\n",
    "images = np.concatenate([np.load(f) for f in image_files], axis=0)  # Shape: (N, H, W)\n",
    "labels = np.concatenate([np.load(f) for f in label_files], axis=0)  # Shape: (N,)\n",
    "\n",
    "# Split into training and validation sets\n",
    "split_ratio = 0.8\n",
    "num_train = int(split_ratio * len(images))\n",
    "num_val = len(images) - num_train\n",
    "\n",
    "train_images, val_images = torch.utils.data.random_split(images, [num_train, num_val], generator=torch.Generator().manual_seed(42))\n",
    "train_labels, val_labels = torch.utils.data.random_split(labels, [num_train, num_val], generator=torch.Generator().manual_seed(42))\n"
   ]
  },
  {
   "cell_type": "code",
   "execution_count": 4,
   "metadata": {},
   "outputs": [],
   "source": [
    "transform = transforms.Compose([\n",
    "    transforms.ToPILImage(),\n",
    "    transforms.Resize((224, 224)),  # Resizing for ResNet input\n",
    "    transforms.ToTensor(),\n",
    "    transforms.Normalize(mean=[0.5], std=[0.5])  # Normalizing for single-channel images\n",
    "])\n",
    "\n",
    "train_dataset = DigitSumDataset(train_images, train_labels, transform=transform)\n",
    "val_dataset = DigitSumDataset(val_images, val_labels, transform=transform)\n",
    "\n",
    "train_loader = DataLoader(train_dataset, batch_size=32, shuffle=True)\n",
    "val_loader = DataLoader(val_dataset, batch_size=32, shuffle=False)\n"
   ]
  },
  {
   "cell_type": "code",
   "execution_count": 5,
   "metadata": {},
   "outputs": [
    {
     "name": "stderr",
     "output_type": "stream",
     "text": [
      "/home2/yashas.b/miniconda3/lib/python3.12/site-packages/torchvision/models/_utils.py:208: UserWarning: The parameter 'pretrained' is deprecated since 0.13 and may be removed in the future, please use 'weights' instead.\n",
      "  warnings.warn(\n",
      "/home2/yashas.b/miniconda3/lib/python3.12/site-packages/torchvision/models/_utils.py:223: UserWarning: Arguments other than a weight enum or `None` for 'weights' are deprecated since 0.13 and may be removed in the future. The current behavior is equivalent to passing `weights=ResNet18_Weights.IMAGENET1K_V1`. You can also use `weights=ResNet18_Weights.DEFAULT` to get the most up-to-date weights.\n",
      "  warnings.warn(msg)\n",
      "Downloading: \"https://download.pytorch.org/models/resnet18-f37072fd.pth\" to /home2/yashas.b/.cache/torch/hub/checkpoints/resnet18-f37072fd.pth\n",
      "100%|██████████| 44.7M/44.7M [00:00<00:00, 48.0MB/s]\n"
     ]
    }
   ],
   "source": [
    "num_classes = len(np.unique(labels))  # Determine number of classes dynamically\n",
    "\n",
    "model = models.resnet18(pretrained=True)\n",
    "model.conv1 = nn.Conv2d(1, 64, kernel_size=7, stride=2, padding=3, bias=False)  # Change input channels to 1\n",
    "model.fc = nn.Linear(model.fc.in_features, num_classes)  # Adjust final layer\n",
    "\n",
    "model = model.to(torch.device(\"cuda\" if torch.cuda.is_available() else \"cpu\"))\n",
    "\n",
    "# Loss and optimizer\n",
    "criterion = nn.CrossEntropyLoss()\n",
    "optimizer = optim.Adam(model.parameters(), lr=0.001)"
   ]
  },
  {
   "cell_type": "code",
   "execution_count": 6,
   "metadata": {},
   "outputs": [],
   "source": [
    "def train_model(model, train_loader, val_loader, criterion, optimizer, num_epochs=10):\n",
    "    device = torch.device(\"cuda\" if torch.cuda.is_available() else \"cpu\")\n",
    "\n",
    "    for epoch in range(num_epochs):\n",
    "        model.train()\n",
    "        running_loss = 0.0\n",
    "\n",
    "        for images, labels in train_loader:\n",
    "            images, labels = images.to(device), labels.to(device)\n",
    "\n",
    "            optimizer.zero_grad()\n",
    "            outputs = model(images)\n",
    "            loss = criterion(outputs, labels)\n",
    "            loss.backward()\n",
    "            optimizer.step()\n",
    "\n",
    "            running_loss += loss.item()\n",
    "\n",
    "        print(f\"Epoch {epoch+1}/{num_epochs}, Loss: {running_loss/len(train_loader)}\")\n",
    "\n",
    "        # Validation phase\n",
    "        model.eval()\n",
    "        correct = 0\n",
    "        total = 0\n",
    "        with torch.no_grad():\n",
    "            for images, labels in val_loader:\n",
    "                images, labels = images.to(device), labels.to(device)\n",
    "                outputs = model(images)\n",
    "                _, predicted = torch.max(outputs, 1)\n",
    "                total += labels.size(0)\n",
    "                correct += (predicted == labels).sum().item()\n",
    "\n",
    "        print(f\"Validation Accuracy: {100 * correct / total:.2f}%\")"
   ]
  },
  {
   "cell_type": "code",
   "execution_count": 13,
   "metadata": {},
   "outputs": [
    {
     "name": "stdout",
     "output_type": "stream",
     "text": [
      "Epoch 1/20, Loss: 0.25193544194102285\n",
      "Validation Accuracy: 83.75%\n",
      "Epoch 2/20, Loss: 0.23420378185311952\n",
      "Validation Accuracy: 88.90%\n",
      "Epoch 3/20, Loss: 0.18184679139157137\n",
      "Validation Accuracy: 90.48%\n",
      "Epoch 4/20, Loss: 0.2244209268465638\n",
      "Validation Accuracy: 87.90%\n",
      "Epoch 5/20, Loss: 0.188535438247025\n",
      "Validation Accuracy: 87.25%\n",
      "Epoch 6/20, Loss: 0.17559221915404002\n",
      "Validation Accuracy: 85.93%\n",
      "Epoch 7/20, Loss: 0.15354684675484895\n",
      "Validation Accuracy: 80.77%\n",
      "Epoch 8/20, Loss: 0.19731664078682662\n",
      "Validation Accuracy: 82.42%\n",
      "Epoch 9/20, Loss: 0.16490333901221554\n",
      "Validation Accuracy: 84.33%\n",
      "Epoch 10/20, Loss: 0.16352894906078777\n",
      "Validation Accuracy: 91.65%\n",
      "Epoch 11/20, Loss: 0.12682882344101867\n",
      "Validation Accuracy: 89.47%\n",
      "Epoch 12/20, Loss: 0.17755370432883502\n",
      "Validation Accuracy: 86.43%\n",
      "Epoch 13/20, Loss: 0.15048630842442315\n",
      "Validation Accuracy: 89.87%\n",
      "Epoch 14/20, Loss: 0.13937090584511558\n",
      "Validation Accuracy: 89.50%\n",
      "Epoch 15/20, Loss: 0.13475705725451312\n",
      "Validation Accuracy: 89.98%\n",
      "Epoch 16/20, Loss: 0.12747812321720023\n",
      "Validation Accuracy: 90.30%\n",
      "Epoch 17/20, Loss: 0.14067442592109244\n",
      "Validation Accuracy: 89.25%\n",
      "Epoch 18/20, Loss: 0.1642147606809934\n",
      "Validation Accuracy: 88.92%\n",
      "Epoch 19/20, Loss: 0.09097499676980078\n",
      "Validation Accuracy: 90.10%\n",
      "Epoch 20/20, Loss: 0.09187459504045546\n",
      "Validation Accuracy: 92.93%\n"
     ]
    }
   ],
   "source": [
    "train_model(model, train_loader, val_loader, criterion, optimizer, num_epochs=20)"
   ]
  },
  {
   "cell_type": "code",
   "execution_count": 14,
   "metadata": {},
   "outputs": [],
   "source": [
    "def evaluate_model(model, test_loader):\n",
    "    device = torch.device(\"cuda\" if torch.cuda.is_available() else \"cpu\")\n",
    "    model.eval()\n",
    "    correct = 0\n",
    "    total = 0\n",
    "    all_predictions = []\n",
    "    all_labels = []\n",
    "\n",
    "    with torch.no_grad():\n",
    "        for images, labels in test_loader:\n",
    "            images, labels = images.to(device), labels.to(device)\n",
    "            outputs = model(images)\n",
    "            _, predicted = torch.max(outputs, 1)\n",
    "            total += labels.size(0)\n",
    "            correct += (predicted == labels).sum().item()\n",
    "            all_predictions.extend(predicted.cpu().numpy())\n",
    "            all_labels.extend(labels.cpu().numpy())\n",
    "\n",
    "    accuracy = 100 * correct / total\n",
    "    print(f\"Test Accuracy: {accuracy:.2f}%\")\n",
    "    return all_predictions, all_labels\n"
   ]
  },
  {
   "cell_type": "code",
   "execution_count": 15,
   "metadata": {},
   "outputs": [
    {
     "name": "stdout",
     "output_type": "stream",
     "text": [
      "Test Accuracy: 92.93%\n"
     ]
    }
   ],
   "source": [
    "test_loader = DataLoader(val_dataset, batch_size=32, shuffle=False) # replace with the test dataset, to evaluate the model\n",
    "predictions, true_labels = evaluate_model(model, test_loader)"
   ]
  },
  {
   "cell_type": "code",
   "execution_count": null,
   "metadata": {},
   "outputs": [],
   "source": []
  }
 ],
 "metadata": {
  "kernelspec": {
   "display_name": "base",
   "language": "python",
   "name": "python3"
  },
  "language_info": {
   "codemirror_mode": {
    "name": "ipython",
    "version": 3
   },
   "file_extension": ".py",
   "mimetype": "text/x-python",
   "name": "python",
   "nbconvert_exporter": "python",
   "pygments_lexer": "ipython3",
   "version": "3.12.2"
  }
 },
 "nbformat": 4,
 "nbformat_minor": 2
}
